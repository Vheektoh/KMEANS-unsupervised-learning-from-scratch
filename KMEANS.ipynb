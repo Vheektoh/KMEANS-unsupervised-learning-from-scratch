{
 "cells": [
  {
   "cell_type": "code",
   "execution_count": 1,
   "id": "0e0009bd",
   "metadata": {},
   "outputs": [],
   "source": [
    "import numpy as np\n",
    "import matplotlib.pyplot as plt"
   ]
  },
  {
   "cell_type": "code",
   "execution_count": 2,
   "id": "9f96608d",
   "metadata": {},
   "outputs": [],
   "source": [
    "class KMeansClustering():\n",
    "    def __init__(self, x, num_clusters):\n",
    "        self.K = num_clusters\n",
    "        self.plot_figure = True\n",
    "        self.max_iterations = 100\n",
    "        self.num_examples, self.num_features = x.shape\n",
    "    \n",
    "    def initialize_random_centroids(self, x):\n",
    "        centroids = np.zeros((self.K, self.num_features))\n",
    "        \n",
    "        for k in range(self.K):\n",
    "            centroid = x[np.random.choice(range(self.num_examples))]\n",
    "            centroids[k] = centroid\n",
    "            \n",
    "        return centroids\n",
    "    \n",
    "    def create_clusters(self, x, centroids):\n",
    "        clusters = [[] for _ in range(self.K)]\n",
    "        \n",
    "        for point_idx, point in enumerate(x):\n",
    "            closest_centroid = np.argmin(np.sqrt(np.sum((point - centroids) ** 2,  axis = 1)))\n",
    "            clusters[closest_centroid].append(point_idx)\n",
    "        return clusters\n",
    "    \n",
    "    def calculate_new_centroids(self, clusters, x):\n",
    "        centroids = np.zeros((self.K, self.num_features))\n",
    "        \n",
    "        for idx, cluster in enumerate(clusters):\n",
    "            new_centroid = np.mean(x[cluster], axis = 0)\n",
    "            centroids[idx] = new_centroid\n",
    "        return centroids\n",
    "    \n",
    "    def predict_cluster(self, clusters, x):\n",
    "        y_pred = np.zeros(self.num_examples)\n",
    "        \n",
    "        for cluster_idx, cluster in enumerate(clusters):\n",
    "            for sample_idx in cluster:\n",
    "                y_pred[sample_idx] = cluster_idx\n",
    "        return y_pred\n",
    "    \n",
    "    def plot_fig(self, x, y):\n",
    "        plt.scatter(x[:, 0], x[:, 1], c=y, s = 40, cmap=plt.cm.Spectral)\n",
    "        plt.show()\n",
    "    \n",
    "    def fit(self, x):\n",
    "        centroids = self.initialize_random_centroids(x)\n",
    "        \n",
    "        for it in range(self.max_iterations):\n",
    "            clusters = self.create_clusters(x, centroids)\n",
    "            \n",
    "            previous_centroids = centroids\n",
    "            centroids = self.calculate_new_centroids(clusters, x)\n",
    "            \n",
    "            diff = centroids - previous_centroids\n",
    "            \n",
    "            if not diff.any():\n",
    "                print('kmeans has converged, criterion satisfied')\n",
    "                break\n",
    "                \n",
    "        y_pred = self.predict_cluster(clusters, x)\n",
    "    \n",
    "        if self.plot_figure:\n",
    "            self.plot_fig(x, y_pred)\n",
    "        return y_pred"
   ]
  },
  {
   "cell_type": "code",
   "execution_count": 3,
   "id": "de292896",
   "metadata": {},
   "outputs": [],
   "source": [
    "x = np.random.randn(100, 2)"
   ]
  },
  {
   "cell_type": "code",
   "execution_count": 4,
   "id": "df4dc66a",
   "metadata": {},
   "outputs": [],
   "source": [
    "num_clusters = 3"
   ]
  },
  {
   "cell_type": "code",
   "execution_count": 5,
   "id": "0bbf9f0b",
   "metadata": {},
   "outputs": [],
   "source": [
    "kmeans = KMeansClustering(x, num_clusters)"
   ]
  },
  {
   "cell_type": "code",
   "execution_count": 6,
   "id": "72414c35",
   "metadata": {},
   "outputs": [
    {
     "name": "stdout",
     "output_type": "stream",
     "text": [
      "kmeans has converged, criterion satisfied\n"
     ]
    },
    {
     "data": {
      "image/png": "[encoded data removed]",
      "text/plain": [
       "<Figure size 432x288 with 1 Axes>"
      ]
     },
     "metadata": {
      "needs_background": "light"
     },
     "output_type": "display_data"
    }
   ],
   "source": [
    "y_pred = kmeans.fit(x)"
   ]
  },
  {
   "cell_type": "code",
   "execution_count": 7,
   "id": "de94a305",
   "metadata": {},
   "outputs": [
    {
     "data": {
      "text/plain": [
       "array([0., 0., 0., 2., 2., 0., 0., 0., 0., 0., 0., 0., 0., 1., 2., 2., 1.,\n",
       "       2., 1., 1., 2., 1., 1., 1., 1., 0., 1., 0., 0., 0., 0., 2., 0., 2.,\n",
       "       1., 0., 2., 1., 0., 1., 0., 0., 1., 2., 1., 2., 0., 2., 0., 0., 2.,\n",
       "       1., 0., 0., 1., 0., 2., 2., 2., 2., 0., 0., 1., 1., 2., 2., 2., 1.,\n",
       "       1., 1., 1., 1., 2., 2., 0., 2., 0., 2., 0., 0., 2., 0., 2., 0., 0.,\n",
       "       1., 2., 2., 0., 1., 0., 1., 0., 2., 1., 2., 0., 0., 1., 1.])"
      ]
     },
     "execution_count": 7,
     "metadata": {},
     "output_type": "execute_result"
    }
   ],
   "source": [
    "y_pred"
   ]
  },
  {
   "cell_type": "markdown",
   "id": "d21938c9",
   "metadata": {},
   "source": [
    "Since kmeans clustering is an unsupervised learning technique, we do not need to split our data into separate test and train sets because the algorithm is not supervised as it doesnt rely on labels to learn. However, we still need to check and evaluate the quality of clustering results to determine if they are useful for the intended purpose."
   ]
  },
  {
   "cell_type": "code",
   "execution_count": null,
   "id": "723c6e44",
   "metadata": {},
   "outputs": [],
   "source": []
  }
 ],
 "metadata": {
  "kernelspec": {
   "display_name": "Python 3 (ipykernel)",
   "language": "python",
   "name": "python3"
  },
  "language_info": {
   "codemirror_mode": {
    "name": "ipython",
    "version": 3
   },
   "file_extension": ".py",
   "mimetype": "text/x-python",
   "name": "python",
   "nbconvert_exporter": "python",
   "pygments_lexer": "ipython3",
   "version": "3.9.12"
  }
 },
 "nbformat": 4,
 "nbformat_minor": 5
}
